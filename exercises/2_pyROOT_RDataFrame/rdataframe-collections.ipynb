{
 "cells": [
  {
   "cell_type": "markdown",
   "id": "41ca9b9e",
   "metadata": {},
   "source": [
    "# Exercise: RDataFrame and collections"
   ]
  },
  {
   "cell_type": "markdown",
   "id": "c5657ad2",
   "metadata": {},
   "source": [
    "The same dataset used in the previous exercise (`TTree` \"dataset\" in file `../data/example_file.root`) contains two vector columns `vec1` and `vec2`.<br>\n",
    "The elements of `vec1` are distributed as a mixture of Gaussians, plus background noise.<br>\n",
    "To remove the background noise, select the elements of `vec1` for which the square of the corresponding elements in `vec2` is less than 0.1.\n",
    "\n",
    "Where are the peaks of this mixture of Gaussians?\n",
    "\n",
    "### Useful links\n",
    "\n",
    "- [RDataFrame: working with collections](https://root.cern/doc/master/classROOT_1_1RDataFrame.html#collections)\n",
    "- [RVec reference](https://root.cern/doc/master/classROOT_1_1VecOps_1_1RVec.html)"
   ]
  },
  {
   "cell_type": "code",
   "execution_count": null,
   "id": "4dea17f9",
   "metadata": {},
   "outputs": [],
   "source": [
    "import ROOT as rt\n",
    "\n",
    "tree = \"dataset\"\n",
    "file = \"../data/example_file.root\"\n",
    "df = rt.RDataFrame(tree, file)\n",
    "\n",
    "df1 = df.Define(\"vec3\", \"vec1[(vec2*vec2) < 0.1]\")\n",
    "df1.Display().Print()"
   ]
  },
  {
   "cell_type": "code",
   "execution_count": null,
   "id": "70f26480",
   "metadata": {},
   "outputs": [],
   "source": [
    "c = rt.TCanvas(\"c\", \"canvas\", 800, 600)\n",
    "h = df1.Histo1D((\"vecs\", \"gaussian distributions\", 64, -7, 7),\"vec3\")\n",
    "\n",
    "gauss1 = rt.TF1(\"Gauss1\",\"gauss\",-5, 0.5)\n",
    "gauss2 = rt.TF1(\"Gauss2\",\"gauss\",0.5, 6)\n",
    "\n",
    "h.Fit(gauss1, \"R\")\n",
    "h.Fit(gauss2, \"R2\")\n",
    "\n",
    "h.Draw()\n",
    "c.Draw()"
   ]
  }
 ],
 "metadata": {
  "kernelspec": {
   "display_name": "Python 3 (ipykernel)",
   "language": "python",
   "name": "python3"
  },
  "language_info": {
   "codemirror_mode": {
    "name": "ipython",
    "version": 3
   },
   "file_extension": ".py",
   "mimetype": "text/x-python",
   "name": "python",
   "nbconvert_exporter": "python",
   "pygments_lexer": "ipython3",
   "version": "3.9.14"
  }
 },
 "nbformat": 4,
 "nbformat_minor": 5
}
