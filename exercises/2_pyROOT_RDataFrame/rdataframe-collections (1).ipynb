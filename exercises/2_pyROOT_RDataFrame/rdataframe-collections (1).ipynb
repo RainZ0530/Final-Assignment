{
 "cells": [
  {
   "cell_type": "markdown",
   "id": "41ca9b9e",
   "metadata": {},
   "source": [
    "# Exercise: RDataFrame and collections"
   ]
  },
  {
   "cell_type": "markdown",
   "id": "c5657ad2",
   "metadata": {},
   "source": [
    "The same dataset used in the previous exercise (`TTree` \"dataset\" in file `../data/example_file.root`) contains two vector columns `vec1` and `vec2`.<br>\n",
    "The elements of `vec1` are distributed as a mixture of Gaussians, plus background noise.<br>\n",
    "To remove the background noise, select the elements of `vec1` for which the square of the corresponding elements in `vec2` is less than 0.1.\n",
    "\n",
    "Where are the peaks of this mixture of Gaussians?\n",
    "\n",
    "### Useful links\n",
    "\n",
    "- [RDataFrame: working with collections](https://root.cern/doc/master/classROOT_1_1RDataFrame.html#collections)\n",
    "- [RVec reference](https://root.cern/doc/master/classROOT_1_1VecOps_1_1RVec.html)"
   ]
  },
  {
   "cell_type": "code",
   "execution_count": 2,
   "id": "b8ce37db",
   "metadata": {},
   "outputs": [],
   "source": [
    "import ROOT as rt"
   ]
  },
  {
   "cell_type": "code",
   "execution_count": 16,
   "id": "4dea17f9",
   "metadata": {},
   "outputs": [
    {
     "name": "stdout",
     "output_type": "stream",
     "text": [
      "Columns in the dataset: { \"a\", \"b\", \"vec1\", \"vec2\" }\n"
     ]
    }
   ],
   "source": [
    "treename = \"dataset\"\n",
    "filename = \"example_file.root\"\n",
    "df = rt.RDataFrame(treename, filename)\n",
    "print(f\"Columns in the dataset: {df.GetColumnNames()}\")"
   ]
  },
  {
   "cell_type": "code",
   "execution_count": 17,
   "id": "231e10da",
   "metadata": {},
   "outputs": [
    {
     "name": "stdout",
     "output_type": "stream",
     "text": [
      "+-----+------------+------------+------------+--------------+-----------+\n",
      "| Row | a          | b          | vec1       | vec2         | vec3      | \n",
      "+-----+------------+------------+------------+--------------+-----------+\n",
      "| 0   | 0.97771140 | 0.99974175 | -3.22012f  | 0.894402f    |           | \n",
      "+-----+------------+------------+------------+--------------+-----------+\n",
      "| 1   | 2.2802012  | 0.48497361 | -1.80835f  | 0.0800873f   | -1.80835f | \n",
      "|     |            |            | 0.236065f  | 0.479906f    |           | \n",
      "|     |            |            | -3.97713f  | 0.519888f    |           | \n",
      "|     |            |            | -0.293643f | 0.317273f    |           | \n",
      "+-----+------------+------------+------------+--------------+-----------+\n",
      "| 2   | 0.56348245 | 0.39231399 |            |              |           | \n",
      "+-----+------------+------------+------------+--------------+-----------+\n",
      "| 3   | 3.0421559  | 0.33353925 | 0.727539f  | 0.796610f    | -2.87416f | \n",
      "|     |            |            | -3.81258f  | 0.331128f    |           | \n",
      "|     |            |            | -2.87416f  | -0.00277938f |           | \n",
      "+-----+------------+------------+------------+--------------+-----------+\n",
      "| 4   | 28.574399  | 0.64812557 | -4.70625f  | 0.427770f    |           | \n",
      "|     |            |            | -4.44909f  | -0.800848f   |           | \n",
      "|     |            |            | 0.0288365f | 0.398534f    |           | \n",
      "+-----+------------+------------+------------+--------------+-----------+\n"
     ]
    }
   ],
   "source": [
    "df1 = df.Define(\"vec3\", \"vec1[(vec2*vec2) < 0.1]\")\n",
    "df1.Display().Print()"
   ]
  },
  {
   "cell_type": "code",
   "execution_count": 18,
   "id": "70f26480",
   "metadata": {},
   "outputs": [
    {
     "name": "stderr",
     "output_type": "stream",
     "text": [
      "input_line_106:2:54: error: use of undeclared identifier 'gauss'\n",
      "Double_t TFormula____id204443205027795977(){ return {gauss} ; }\n",
      "                                                     ^\n",
      "input_line_107:2:54: error: use of undeclared identifier 'gauss'\n",
      "Double_t TFormula____id204443205027795977(){ return {gauss} ; }\n",
      "                                                     ^\n",
      "Error in <prepareMethod>: Can't compile function TFormula____id204443205027795977 prototype with arguments \n",
      "Error in <TFormula::InputFormulaIntoCling>: Error compiling formula expression in Cling\n",
      "Error in <TFormula::ProcessFormula>: \"gauss\" has not been matched in the formula expression\n",
      "Error in <TFormula::ProcessFormula>: Formula \"gauss\" is invalid !\n",
      "input_line_108:2:54: error: use of undeclared identifier 'gauss'\n",
      "Double_t TFormula____id204443205027795977(){ return {gauss} ; }\n",
      "                                                     ^\n",
      "input_line_109:2:54: error: use of undeclared identifier 'gauss'\n",
      "Double_t TFormula____id204443205027795977(){ return {gauss} ; }\n",
      "                                                     ^\n",
      "Error in <prepareMethod>: Can't compile function TFormula____id204443205027795977 prototype with arguments \n",
      "Error in <TFormula::InputFormulaIntoCling>: Error compiling formula expression in Cling\n",
      "Error in <TFormula::ProcessFormula>: \"gauss\" has not been matched in the formula expression\n",
      "Error in <TFormula::ProcessFormula>: Formula \"gauss\" is invalid !\n",
      "Error in <Fit>: function Gauss1 has illegal number of parameters = 0\n",
      "Error in <Fit>: function Gauss2 has illegal number of parameters = 0\n"
     ]
    },
    {
     "data": {
      "image/png": "[encoded data removed]",
      "text/plain": [
       "<IPython.core.display.Image object>"
      ]
     },
     "metadata": {},
     "output_type": "display_data"
    }
   ],
   "source": [
    "c = rt.TCanvas(\"c\", \"canvas\", 800, 600)\n",
    "h = df1.Histo1D((\"vecs\", \"gaussian distributions\", 64, -7, 7),\"vec3\")\n",
    "\n",
    "gauss1 = rt.TF1(\"Gauss1\",\"gauss\",-5, 0.5)\n",
    "gauss2 = rt.TF1(\"Gauss2\",\"gauss\",0.5, 6)\n",
    "\n",
    "h.Fit(gauss1, \"R\")\n",
    "h.Fit(gauss2, \"R2\")\n",
    "\n",
    "h.Draw()\n",
    "c.Draw()"
   ]
  },
  {
   "cell_type": "code",
   "execution_count": null,
   "id": "0ee3271b",
   "metadata": {},
   "outputs": [],
   "source": []
  }
 ],
 "metadata": {
  "kernelspec": {
   "display_name": "Python 3 (ipykernel)",
   "language": "python",
   "name": "python3"
  },
  "language_info": {
   "codemirror_mode": {
    "name": "ipython",
    "version": 3
   },
   "file_extension": ".py",
   "mimetype": "text/x-python",
   "name": "python",
   "nbconvert_exporter": "python",
   "pygments_lexer": "ipython3",
   "version": "3.9.14"
  }
 },
 "nbformat": 4,
 "nbformat_minor": 5
}
