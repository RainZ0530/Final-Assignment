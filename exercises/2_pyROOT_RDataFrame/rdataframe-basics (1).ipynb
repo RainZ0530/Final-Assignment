{
 "cells": [
  {
   "cell_type": "markdown",
   "metadata": {},
   "source": [
    "# Exercise: RDataFrame basics"
   ]
  },
  {
   "cell_type": "markdown",
   "metadata": {},
   "source": [
    "The file `../data/example_file.root` contains a `TTree` dataset (called `\"dataset\"`) with two scalar columns `a` and `b`.<br>\n",
    "There is a normal distribution hidden in there, but to display it you have to plot the natural logarithm of `a` only for entries in which `b <= 0.5`.\n",
    "\n",
    "### Useful links\n",
    "\n",
    "- [RDataFrame class reference](https://root.cern/doc/master/classROOT_1_1RDataFrame.html)\n",
    "- [RDataFrame tutorials](https://root.cern.ch/doc/master/group__tutorial__dataframe.html)"
   ]
  },
  {
   "cell_type": "code",
   "execution_count": 3,
   "metadata": {},
   "outputs": [],
   "source": [
    "import ROOT as rt"
   ]
  },
  {
   "cell_type": "code",
   "execution_count": 10,
   "metadata": {},
   "outputs": [
    {
     "name": "stdout",
     "output_type": "stream",
     "text": [
      "+-----+------------+------------+------------+--------------+\n",
      "| Row | a          | b          | vec1       | vec2         | \n",
      "+-----+------------+------------+------------+--------------+\n",
      "| 0   | 0.97771140 | 0.99974175 | -3.22012f  | 0.894402f    | \n",
      "+-----+------------+------------+------------+--------------+\n",
      "| 1   | 2.2802012  | 0.48497361 | -1.80835f  | 0.0800873f   | \n",
      "|     |            |            | 0.236065f  | 0.479906f    | \n",
      "|     |            |            | -3.97713f  | 0.519888f    | \n",
      "|     |            |            | -0.293643f | 0.317273f    | \n",
      "+-----+------------+------------+------------+--------------+\n",
      "| 2   | 0.56348245 | 0.39231399 |            |              | \n",
      "+-----+------------+------------+------------+--------------+\n",
      "| 3   | 3.0421559  | 0.33353925 | 0.727539f  | 0.796610f    | \n",
      "|     |            |            | -3.81258f  | 0.331128f    | \n",
      "|     |            |            | -2.87416f  | -0.00277938f | \n",
      "+-----+------------+------------+------------+--------------+\n",
      "| 4   | 28.574399  | 0.64812557 | -4.70625f  | 0.427770f    | \n",
      "|     |            |            | -4.44909f  | -0.800848f   | \n",
      "|     |            |            | 0.0288365f | 0.398534f    | \n",
      "+-----+------------+------------+------------+--------------+\n"
     ]
    }
   ],
   "source": [
    "treename = \"dataset\"\n",
    "filename = \"example_file.root\"\n",
    "df = rt.RDataFrame(treename, filename)\n",
    "df.Display().Print()"
   ]
  },
  {
   "cell_type": "code",
   "execution_count": 13,
   "metadata": {},
   "outputs": [
    {
     "name": "stdout",
     "output_type": "stream",
     "text": [
      "+-----+------------+------------+------------+--------------+\n",
      "| Row | a          | b          | vec1       | vec2         | \n",
      "+-----+------------+------------+------------+--------------+\n",
      "| 1   | 2.2802012  | 0.48497361 | -1.80835f  | 0.0800873f   | \n",
      "|     |            |            | 0.236065f  | 0.479906f    | \n",
      "|     |            |            | -3.97713f  | 0.519888f    | \n",
      "|     |            |            | -0.293643f | 0.317273f    | \n",
      "+-----+------------+------------+------------+--------------+\n",
      "| 2   | 0.56348245 | 0.39231399 |            |              | \n",
      "+-----+------------+------------+------------+--------------+\n",
      "| 3   | 3.0421559  | 0.33353925 | 0.727539f  | 0.796610f    | \n",
      "|     |            |            | -3.81258f  | 0.331128f    | \n",
      "|     |            |            | -2.87416f  | -0.00277938f | \n",
      "+-----+------------+------------+------------+--------------+\n",
      "| 5   | 0.31150198 | 0.20777991 |            |              | \n",
      "+-----+------------+------------+------------+--------------+\n",
      "| 7   | 0.81937311 | 0.43184546 | 0.0741726f | -0.658658f   | \n",
      "|     |            |            | -4.45814f  | -0.118358f   | \n",
      "|     |            |            | -4.07029f  | -0.909327f   | \n",
      "|     |            |            | -0.478719f | -0.377407f   | \n",
      "+-----+------------+------------+------------+--------------+\n"
     ]
    }
   ],
   "source": [
    "df1 = df.Filter(\"b<=0.5\")\n",
    "df2 = df1.Define(\"ln_a\", \"log(a)\")\n",
    "df1.Display().Print()"
   ]
  },
  {
   "cell_type": "code",
   "execution_count": 14,
   "metadata": {},
   "outputs": [
    {
     "data": {
      "image/png": "[encoded data removed]",
      "text/plain": [
       "<IPython.core.display.Image object>"
      ]
     },
     "metadata": {},
     "output_type": "display_data"
    }
   ],
   "source": [
    "c = rt.TCanvas(\"c\", \"canvas\", 800, 600)\n",
    "h = df2.Histo1D((\"h\", \"histo\", 100, -4, 4), \"ln_a\")\n",
    "h.Draw()\n",
    "c.Draw()"
   ]
  },
  {
   "cell_type": "code",
   "execution_count": null,
   "metadata": {},
   "outputs": [],
   "source": []
  }
 ],
 "metadata": {
  "kernelspec": {
   "display_name": "Python 3 (ipykernel)",
   "language": "python",
   "name": "python3"
  },
  "language_info": {
   "codemirror_mode": {
    "name": "ipython",
    "version": 3
   },
   "file_extension": ".py",
   "mimetype": "text/x-python",
   "name": "python",
   "nbconvert_exporter": "python",
   "pygments_lexer": "ipython3",
   "version": "3.9.14"
  }
 },
 "nbformat": 4,
 "nbformat_minor": 4
}
